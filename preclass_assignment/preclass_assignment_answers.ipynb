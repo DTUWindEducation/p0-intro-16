{
 "cells": [
  {
   "cell_type": "markdown",
   "metadata": {},
   "source": [
    "Question 1"
   ]
  },
  {
   "cell_type": "code",
   "execution_count": 8,
   "metadata": {},
   "outputs": [],
   "source": [
    "def greet(name): \n",
    "    print(f\"Hello, {name}!\")\n"
   ]
  },
  {
   "cell_type": "code",
   "execution_count": 9,
   "metadata": {},
   "outputs": [
    {
     "name": "stdout",
     "output_type": "stream",
     "text": [
      "Hello, Kali!\n"
     ]
    }
   ],
   "source": [
    "name = 'Kali'\n",
    "greeting = greet(name)"
   ]
  },
  {
   "cell_type": "markdown",
   "metadata": {},
   "source": [
    "Question 2"
   ]
  },
  {
   "cell_type": "code",
   "execution_count": 5,
   "metadata": {},
   "outputs": [],
   "source": [
    "def goldilocks(bed_length):\n",
    "    if bed_length < 140: \n",
    "        print('Too small!')\n",
    "    elif bed_length > 150: \n",
    "        print('Too large!')\n",
    "    else: \n",
    "        print('Just right :)')\n"
   ]
  },
  {
   "cell_type": "code",
   "execution_count": 6,
   "metadata": {},
   "outputs": [
    {
     "name": "stdout",
     "output_type": "stream",
     "text": [
      "Too small!\n",
      "Just right :)\n",
      "Too large!\n",
      "Just right :)\n"
     ]
    }
   ],
   "source": [
    "goldilocks(139)\n",
    "goldilocks(140)\n",
    "goldilocks(151)\n",
    "goldilocks(150)"
   ]
  },
  {
   "cell_type": "markdown",
   "metadata": {},
   "source": [
    "Question 3"
   ]
  },
  {
   "cell_type": "code",
   "execution_count": 10,
   "metadata": {},
   "outputs": [],
   "source": [
    "def square_list(list_nums): \n",
    "    return_list = []\n",
    "    for value in list_nums: \n",
    "        return_list.append(value**2)\n",
    "    return return_list"
   ]
  },
  {
   "cell_type": "code",
   "execution_count": 11,
   "metadata": {},
   "outputs": [
    {
     "name": "stdout",
     "output_type": "stream",
     "text": [
      "[1, 4, 9]\n"
     ]
    }
   ],
   "source": [
    "values = [1,2,3]\n",
    "print(square_list(values))"
   ]
  },
  {
   "cell_type": "markdown",
   "metadata": {},
   "source": [
    "Question 4"
   ]
  },
  {
   "cell_type": "code",
   "execution_count": 8,
   "metadata": {},
   "outputs": [],
   "source": [
    "def fibonacci_stop(fib_value): \n",
    "    current_val = 1\n",
    "    prev_val = 0\n",
    "    fib_list = [1]\n",
    "    while current_val < fib_value:\n",
    "        if current_val == 1 and prev_val == 0: \n",
    "            fib_list.append(current_val)\n",
    "            prev_val = current_val\n",
    "        current_val_new = current_val + prev_val\n",
    "        prev_val = current_val\n",
    "        current_val = current_val_new\n",
    "        if current_val > fib_value: \n",
    "            break\n",
    "        fib_list.append(current_val)\n",
    "    return fib_list\n"
   ]
  },
  {
   "cell_type": "code",
   "execution_count": 7,
   "metadata": {},
   "outputs": [
    {
     "name": "stdout",
     "output_type": "stream",
     "text": [
      "1\n"
     ]
    },
    {
     "data": {
      "text/plain": [
       "[1, 1, 2, 3, 5, 8, 13, 21]"
      ]
     },
     "execution_count": 7,
     "metadata": {},
     "output_type": "execute_result"
    }
   ],
   "source": [
    "fibonacci_stop(30)"
   ]
  },
  {
   "cell_type": "markdown",
   "metadata": {},
   "source": [
    "Question 5"
   ]
  },
  {
   "cell_type": "code",
   "execution_count": 23,
   "metadata": {},
   "outputs": [],
   "source": [
    "def clean_pitch(pitch_measurement,status_signal):\n",
    "    for index, measurement in enumerate(pitch_measurement): \n",
    "        if 0 > measurement  or measurement > 90 and status_signal[index] > 0: \n",
    "            #print('check')\n",
    "            pitch_measurement[index] = -999\n",
    "        #print(index,measurement)\n",
    "    return pitch_measurement\n"
   ]
  },
  {
   "cell_type": "code",
   "execution_count": 24,
   "metadata": {},
   "outputs": [
    {
     "name": "stdout",
     "output_type": "stream",
     "text": [
      "[-999, 2, 6, 95]\n"
     ]
    }
   ],
   "source": [
    "x = [-1, 2, 6, 95]  # \"raw\" pitch angle at four time steps\n",
    "status = [1, 0, 0, 0]  # status signal\n",
    "print(clean_pitch(x, status))"
   ]
  }
 ],
 "metadata": {
  "kernelspec": {
   "display_name": "base",
   "language": "python",
   "name": "python3"
  },
  "language_info": {
   "codemirror_mode": {
    "name": "ipython",
    "version": 3
   },
   "file_extension": ".py",
   "mimetype": "text/x-python",
   "name": "python",
   "nbconvert_exporter": "python",
   "pygments_lexer": "ipython3",
   "version": "3.11.9"
  }
 },
 "nbformat": 4,
 "nbformat_minor": 2
}
